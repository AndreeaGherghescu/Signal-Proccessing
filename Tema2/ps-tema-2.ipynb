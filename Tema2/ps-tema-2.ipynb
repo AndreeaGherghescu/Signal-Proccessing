{
 "cells": [
  {
   "cell_type": "markdown",
   "metadata": {},
   "source": [
    "# Pachete necesare pentru folosirea acestui Notebook\n",
    "\n",
    "Vom folosi [scipy](https://scipy.org/), [numpy](https://numpy.org/) și [matplotlib](https://matplotlib.org/)."
   ]
  },
  {
   "cell_type": "code",
   "execution_count": 1,
   "metadata": {},
   "outputs": [
    {
     "ename": "ModuleNotFoundError",
     "evalue": "No module named 'cv2'",
     "output_type": "error",
     "traceback": [
      "\u001B[0;31m---------------------------------------------------------------------------\u001B[0m",
      "\u001B[0;31mModuleNotFoundError\u001B[0m                       Traceback (most recent call last)",
      "Cell \u001B[0;32mIn[1], line 4\u001B[0m\n\u001B[1;32m      2\u001B[0m \u001B[38;5;28;01mimport\u001B[39;00m \u001B[38;5;21;01mnumpy\u001B[39;00m \u001B[38;5;28;01mas\u001B[39;00m \u001B[38;5;21;01mnp\u001B[39;00m\n\u001B[1;32m      3\u001B[0m \u001B[38;5;28;01mimport\u001B[39;00m \u001B[38;5;21;01mmatplotlib\u001B[39;00m\u001B[38;5;21;01m.\u001B[39;00m\u001B[38;5;21;01mpyplot\u001B[39;00m \u001B[38;5;28;01mas\u001B[39;00m \u001B[38;5;21;01mplt\u001B[39;00m\n\u001B[0;32m----> 4\u001B[0m \u001B[38;5;28;01mimport\u001B[39;00m \u001B[38;5;21;01mcv2\u001B[39;00m\n\u001B[1;32m      5\u001B[0m \u001B[38;5;28;01mfrom\u001B[39;00m \u001B[38;5;21;01mscipy\u001B[39;00m\u001B[38;5;21;01m.\u001B[39;00m\u001B[38;5;21;01mio\u001B[39;00m \u001B[38;5;28;01mimport\u001B[39;00m wavfile\n\u001B[1;32m      6\u001B[0m \u001B[38;5;28;01mfrom\u001B[39;00m \u001B[38;5;21;01mIPython\u001B[39;00m\u001B[38;5;21;01m.\u001B[39;00m\u001B[38;5;21;01mdisplay\u001B[39;00m \u001B[38;5;28;01mimport\u001B[39;00m Audio\n",
      "\u001B[0;31mModuleNotFoundError\u001B[0m: No module named 'cv2'"
     ]
    }
   ],
   "source": [
    "from scipy import misc, ndimage\n",
    "import numpy as np\n",
    "import matplotlib.pyplot as plt\n",
    "import cv2\n",
    "from scipy.io import wavfile\n",
    "from IPython.display import Audio"
   ]
  },
  {
   "cell_type": "markdown",
   "metadata": {},
   "source": [
    "# Imaginea cu care lucrăm\n",
    "\n",
    "Vom folosi o imagine din setul de date oferit implicit de către scipy."
   ]
  },
  {
   "cell_type": "code",
   "execution_count": null,
   "metadata": {},
   "outputs": [],
   "source": [
    "X = misc.face(gray=True)\n",
    "plt.imshow(X, cmap=plt.cm.gray)\n",
    "plt.show()"
   ]
  },
  {
   "cell_type": "markdown",
   "metadata": {},
   "source": [
    "# Transformata Fourier a unei imagini\n",
    "\n",
    "Transformata Fourier Discretă se extinde ușor la mai multe dimensiuni. Pentru un semnal bidimensional precum o imagine DFT devine:\n",
    "\n",
    "$$\n",
    "Y_{m_1,m_2} = \\sum_{n_1=0}^{N_1-1}\\sum_{n_2=0}^{N_2-1}x_{n_1,n_2}e^{-j2\\pi(m_1 n_1/N_1 + m_2 n_2/N_2)}\n",
    "$$\n",
    "\n",
    "* unde $n_1$ și $n_2$ sunt pozițile pixelilor pe orizontală, respectiv, pe verticală\n",
    "* bin-urile rezultate corespund pozițiilor pixelilor\n",
    "* spectrul este în continuare simetric\n",
    "* proprietățile transformatei DFT 1D sunt respectate și în cazul celei 2D\n",
    "\n",
    "În continuare vom folosi rutina generală `fft2` ce servește mai bine activității de învățare, deși pentru semnale reale ar trebui să folosim `rfft2` ce întoarce doar informația esențială (ex. omite simetriile). De asemenea vom analiza spectrul în scală logaritmică pentru a diferenția mai bine magnitudinile bin-urilor DTF."
   ]
  },
  {
   "cell_type": "code",
   "execution_count": null,
   "metadata": {},
   "outputs": [],
   "source": [
    "Y = np.fft.fft2(X)\n",
    "freq_db = 20*np.log10(abs(Y))\n",
    "\n",
    "plt.imshow(freq_db)\n",
    "plt.colorbar()\n",
    "plt.show()"
   ]
  },
  {
   "cell_type": "markdown",
   "metadata": {},
   "source": [
    "Operațiile efectuate direct asupra imaginii se reflectă și în spectrul acesteia. Iată un exemplu a unei rotații de 45 de grade:"
   ]
  },
  {
   "cell_type": "code",
   "execution_count": null,
   "metadata": {},
   "outputs": [],
   "source": [
    "rotate_angle = 45\n",
    "X45 = ndimage.rotate(X, rotate_angle)\n",
    "plt.imshow(X45, cmap=plt.cm.gray)\n",
    "plt.show()\n",
    "\n",
    "Y45 = np.fft.fft2(X45)\n",
    "plt.imshow(20*np.log10(abs(Y45)))\n",
    "plt.colorbar()\n",
    "plt.show()"
   ]
  },
  {
   "cell_type": "markdown",
   "metadata": {},
   "source": [
    "Momentan pe axe sunt afișate numărul bin-urilor. Pentru a obține frecvențele asociate folosiți `fftfreq`:"
   ]
  },
  {
   "cell_type": "code",
   "execution_count": null,
   "metadata": {},
   "outputs": [],
   "source": [
    "freq_x = np.fft.fftfreq(X.shape[1])\n",
    "freq_y = np.fft.fftfreq(X.shape[0])\n",
    "\n",
    "plt.stem(freq_x, freq_db[:][0])\n",
    "plt.show()"
   ]
  },
  {
   "cell_type": "markdown",
   "metadata": {},
   "source": [
    "# Atenuarea frecvențelor înalte\n",
    "\n",
    "Pentru a anula frecvențele de peste un anumit prag `freq_cutoff` putem pur și simplu anula intrările din spectru și aplica transformata Fourier inversă:"
   ]
  },
  {
   "cell_type": "code",
   "execution_count": null,
   "metadata": {},
   "outputs": [],
   "source": [
    "freq_cutoff = 120\n",
    "\n",
    "Y_cutoff = Y.copy()\n",
    "Y_cutoff[freq_db > freq_cutoff] = 0\n",
    "X_cutoff = np.fft.ifft2(Y_cutoff)\n",
    "X_cutoff = np.real(X_cutoff)    # avoid rounding erros in the complex domain,\n",
    "                                # in practice use irfft2\n",
    "plt.imshow(X_cutoff, cmap=plt.cm.gray)\n",
    "plt.show()"
   ]
  },
  {
   "cell_type": "markdown",
   "metadata": {},
   "source": [
    "# Zgomot\n",
    "\n",
    "Zgomotul alb perturbă în mod egal spectrul semnalului. Este astfel egal distribuit și regăsit în toate bin-urile DFT. [Zgomotul color](https://en.wikipedia.org/wiki/Colors_of_noise) se schimbă de-a lungul frecvențelor.\n",
    "\n",
    "Putem adăuga zgomot în limita a `pixel_noise` pixeli imaginii folosind `random.randint`:"
   ]
  },
  {
   "cell_type": "code",
   "execution_count": null,
   "metadata": {},
   "outputs": [],
   "source": [
    "pixel_noise = 200\n",
    "\n",
    "noise = np.random.randint(-pixel_noise, high=pixel_noise+1, size=X.shape)\n",
    "X_noisy = X + noise\n",
    "plt.imshow(X, cmap=plt.cm.gray)\n",
    "plt.title('Original')\n",
    "plt.show()\n",
    "plt.imshow(X_noisy, cmap=plt.cm.gray)\n",
    "plt.title('Noisy')\n",
    "plt.show()"
   ]
  },
  {
   "cell_type": "markdown",
   "metadata": {},
   "source": [
    "# Sarcini\n",
    "\n",
    "1. [8p] Produceți imaginile și spectrul pentru funcțiile de mai jos și dați o explicație scurtă pentru fiecare rezultat.\n",
    "* $x_{n_1,n_2} = \\sin(2\\pi n_1 + 3\\pi n_2)$\n",
    "* $x_{n_1,n_2} = \\sin(4\\pi n_1) + \\cos(6\\pi n_2)$\n",
    "* $Y_{0,5} = Y_{0,N-5} = 1\\text{, altfel }Y_{m_1,m_2} = 0,\\ \\forall m_1, m_2$\n",
    "* $Y_{5,0} = Y_{N-5,0} = 1\\text{, altfel }Y_{m_1,m_2} = 0,\\ \\forall m_1, m_2$\n",
    "* $Y_{5,5} = Y_{N-5,N-5} = 1\\text{, altfel }Y_{m_1,m_2} = 0,\\ \\forall m_1, m_2$\n",
    "\n",
    "*Atenție*: $x$ reprezintă informație în domeniul timpului, $Y$ în domeninul frecvenței.\n",
    "\n",
    "2. [4p] Comprimați imaginea cu ratonul de mai sus prin atenuarea frecvențelor înalte până la un prag SNR autoimpus.\n",
    "\n",
    "3. [4p] Eliminați zgomotul adăugat la imaginea cu ratonul produsă mai sus. Prezentați raportul SNR înainte și după.\n",
    "\n",
    "4. [4p] Alegeți o secvență scurtă de timp (ex. 5-10 secunde) și eliminați un instrument la alegere din semnalul audio rezultat în urma rezolvării sarcinilor de la [laboratorul 5](https://cs.unibuc.ro/~pirofti/ps/ps-lab-5.pdf)."
   ]
  },
  {
   "cell_type": "markdown",
   "source": [
    "## Sarcina 1"
   ],
   "metadata": {
    "collapsed": false
   }
  },
  {
   "cell_type": "code",
   "execution_count": null,
   "outputs": [],
   "source": [
    "# Definesc o functie prin care sa generez toate imaginile.\n",
    "# Parametrii: f - functia imaginii, size - dimensiunile imaginii, step - pasul de esantionare.\n",
    "\n",
    "\n",
    "# timp -> frecventa\n",
    "def make_image(f, size, step):\n",
    "\n",
    "    # creez \"pixelii\" imaginii, la fel cum generam time in 1D\n",
    "    N1, N2 = np.mgrid[0:size:step, 0:size:step]\n",
    "\n",
    "    # esantionez functia pe pixelii de mai sus\n",
    "    y = f(N1, N2)\n",
    "\n",
    "    # aplic transformata Fourier\n",
    "    Y = np.fft.fft2(y)\n",
    "\n",
    "    # scap de simetrii\n",
    "    Y = Y[:Y.shape[0] // 2, :Y.shape[1] // 2]\n",
    "\n",
    "    # transform in scara logaritmica\n",
    "    Y_scaled = 20 * np.log10(np.abs(Y))\n",
    "\n",
    "    fig, axs = plt.subplots(1, 2)\n",
    "\n",
    "    axs[0].set_title(\"Imagine\")\n",
    "    axs[0].imshow(y)\n",
    "\n",
    "    axs[1].set_title(\"Spectrul imaginii\")\n",
    "    axs[1].imshow(Y_scaled)\n",
    "\n",
    "    plt.show()\n"
   ],
   "metadata": {
    "collapsed": false
   }
  },
  {
   "cell_type": "markdown",
   "source": [
    "a) $x_{n_1,n_2} = \\sin(2\\pi n_1 + 3\\pi n_2)$"
   ],
   "metadata": {
    "collapsed": false
   }
  },
  {
   "cell_type": "code",
   "execution_count": null,
   "outputs": [],
   "source": [
    "def x1(n1, n2):\n",
    "    return np.sin(2 * np.pi * n1 + 3 * np.pi * n2)\n",
    "\n",
    "make_image(x1, 1, 1/30)\n"
   ],
   "metadata": {
    "collapsed": false
   }
  },
  {
   "cell_type": "markdown",
   "source": [
    "Semnalul este compus dintr-o serie de dungi paralele identice."
   ],
   "metadata": {
    "collapsed": false
   }
  },
  {
   "cell_type": "markdown",
   "source": [
    "b) $x_{n_1,n_2} = \\sin(4\\pi n_1) + \\cos(6\\pi n_2)$"
   ],
   "metadata": {
    "collapsed": false
   }
  },
  {
   "cell_type": "code",
   "execution_count": null,
   "outputs": [],
   "source": [
    "def x2(n1, n2):\n",
    "    return np.sin(4 * np.pi * n1) + np.cos(6 * np.pi * n2)\n",
    "\n",
    "make_image(x2, 2, 1/10)"
   ],
   "metadata": {
    "collapsed": false
   }
  },
  {
   "cell_type": "markdown",
   "source": [
    "Imaginea este compusa din componente perpendiculare."
   ],
   "metadata": {
    "collapsed": false
   }
  },
  {
   "cell_type": "markdown",
   "source": [],
   "metadata": {
    "collapsed": false
   }
  },
  {
   "cell_type": "code",
   "execution_count": null,
   "outputs": [],
   "source": [
    "# frecventa -> timp\n",
    "def make_image(f, size, step):\n",
    "\n",
    "    N1, N2 = np.mgrid[0:size:step, 0:size:step]\n",
    "\n",
    "    Y = f(N1, N2)\n",
    "\n",
    "    # aplic transformarea fourier inversa\n",
    "    y = np.fft.ifft2(Y).real\n",
    "\n",
    "    Y = Y[:Y.shape[0] // 2, :Y.shape[1] // 2]\n",
    "\n",
    "    fig, axs = plt.subplots(1, 2)\n",
    "\n",
    "    axs[0].set_title(\"Spectrul imaginii\")\n",
    "    axs[0].imshow(Y)\n",
    "\n",
    "    axs[1].set_title(\"Imaginea\")\n",
    "    axs[1].imshow(y)"
   ],
   "metadata": {
    "collapsed": false
   }
  },
  {
   "cell_type": "markdown",
   "source": [
    "c) $Y_{0,5} = Y_{0,N-5} = 1\\text{, altfel }Y_{m_1,m_2} = 0,\\ \\forall m_1, m_2$"
   ],
   "metadata": {
    "collapsed": false
   }
  },
  {
   "cell_type": "code",
   "execution_count": null,
   "outputs": [],
   "source": [
    "n = 30\n",
    "\n",
    "def y3(n1, n2):\n",
    "    condition = (n1 == 0) & ((n2 == 5) | (n2 == n - 5))\n",
    "    return np.where(condition, 1, 0)\n",
    "\n",
    "make_image(y3, n, 1)"
   ],
   "metadata": {
    "collapsed": false
   }
  },
  {
   "cell_type": "markdown",
   "source": [
    "Imaginea este formata din linii verticale."
   ],
   "metadata": {
    "collapsed": false
   }
  },
  {
   "cell_type": "markdown",
   "source": [
    "d) $Y_{5,0} = Y_{N-5,0} = 1\\text{, altfel }Y_{m_1,m_2} = 0,\\ \\forall m_1, m_2$"
   ],
   "metadata": {
    "collapsed": false
   }
  },
  {
   "cell_type": "code",
   "execution_count": null,
   "outputs": [],
   "source": [
    "n = 30\n",
    "\n",
    "def y4(n1, n2):\n",
    "    condition = ((n1 == 5) | (n1 == n - 5)) & (n2 == 0)\n",
    "    return np.where(condition, 1, 0)\n",
    "\n",
    "make_image(y4, n, 1)"
   ],
   "metadata": {
    "collapsed": false
   }
  },
  {
   "cell_type": "markdown",
   "source": [
    "Imaginea este formata din linii orizontale."
   ],
   "metadata": {
    "collapsed": false
   }
  },
  {
   "cell_type": "markdown",
   "source": [],
   "metadata": {
    "collapsed": false
   }
  },
  {
   "cell_type": "markdown",
   "source": [
    "e) $Y_{5,5} = Y_{N-5,N-5} = 1\\text{, altfel }Y_{m_1,m_2} = 0,\\ \\forall m_1, m_2$"
   ],
   "metadata": {
    "collapsed": false
   }
  },
  {
   "cell_type": "code",
   "execution_count": null,
   "outputs": [],
   "source": [
    "n = 50\n",
    "\n",
    "def y5(n1, n2):\n",
    "    condition = ((n1 == 5) & (n2 == 5)) | ((n1 == (n - 5)) & (n2 == (n - 5)))\n",
    "    return np.where(condition, 1, 0)\n",
    "\n",
    "make_image(y5, n, 1)"
   ],
   "metadata": {
    "collapsed": false
   }
  },
  {
   "cell_type": "markdown",
   "source": [
    "Imaginea este formata din linii oblice, observarm ca frecventa pe orizontala si verticala este 5, deci liniile sunt la 45 grade."
   ],
   "metadata": {
    "collapsed": false
   }
  },
  {
   "cell_type": "markdown",
   "source": [
    "## Sarcina 2"
   ],
   "metadata": {
    "collapsed": false
   }
  },
  {
   "cell_type": "code",
   "execution_count": null,
   "outputs": [],
   "source": [
    "fig, axs = plt.subplots(1, 2)\n",
    "\n",
    "X = misc.face(gray=True)\n",
    "axs[0].imshow(X, cmap=plt.cm.gray)\n",
    "axs[0].set_title(\"Imaginea originala cu ratonul\")\n",
    "\n",
    "prag = 130\n",
    "\n",
    "Y = np.fft.rfft2(X)\n",
    "Y_scaled = 20 * np.log10(np.abs(Y))\n",
    "Y[Y_scaled > prag] = 0\n",
    "Y_filtered = np.fft.irfft2(Y)\n",
    "\n",
    "def find_psnr(original, filtered):\n",
    "    sd = (original - filtered) ** 2\n",
    "    mse = np.mean(sd)\n",
    "\n",
    "    if mse == 0:\n",
    "        return 0\n",
    "\n",
    "    max_pixel_intensity = np.max(original)\n",
    "    ratio = (max_pixel_intensity ** 2) / mse\n",
    "    return 10 * np.log10(ratio)\n",
    "\n",
    "psnr = find_psnr(X, Y_filtered)\n",
    "axs[1].set_title(f\"Prag = {prag}\\nPSNR = {psnr:.4f} dB\")\n",
    "axs[1].imshow(Y_filtered, cmap=plt.cm.gray)\n",
    "\n",
    "plt.show()"
   ],
   "metadata": {
    "collapsed": false
   }
  },
  {
   "cell_type": "markdown",
   "source": [
    "## Sarcina 3"
   ],
   "metadata": {
    "collapsed": false
   }
  },
  {
   "cell_type": "code",
   "execution_count": null,
   "outputs": [],
   "source": [
    "pixel_noise = 200\n",
    "\n",
    "noise = np.random.randint(-pixel_noise, high=pixel_noise+1, size=X.shape)\n",
    "X_noisy = X + noise\n",
    "\n",
    "fig, axs = plt.subplots(2, 2, figsize=(10, 10))\n",
    "\n",
    "axs[0][0].imshow(X, cmap=plt.cm.gray)\n",
    "axs[0][0].set_title('Original')\n",
    "\n",
    "axs[0][1].imshow(X_noisy, cmap=plt.cm.gray)\n",
    "psnr = find_psnr(X, X_noisy)\n",
    "axs[0][1].set_title(f\"Noisy\\nPSNR = {psnr:.4f} dB\")\n",
    "\n",
    "# blurez imagineaz pentru a scapa de zgomot\n",
    "# folosesc ferestre de tip mean filter, una de 3x3 si una de 5x5 pentru a observa diferentele\n",
    "\n",
    "X_blured3 = cv2.blur(X_noisy, (3, 3))\n",
    "X_blured5 = cv2.blur(X_noisy, (5, 5))\n",
    "\n",
    "axs[1][0].imshow(X_blured3, cmap=plt.cm.gray)\n",
    "psnr = find_psnr(X, X_blured3)\n",
    "axs[1][0].set_title(f\"Blured\\nPSNR = {psnr:.4f} dB\")\n",
    "\n",
    "axs[1][1].imshow(X_blured5, cmap=plt.cm.gray)\n",
    "psnr = find_psnr(X, X_blured5)\n",
    "axs[1][1].set_title(f\"Blured\\nPSNR = {psnr:.4f} dB\")\n",
    "\n",
    "\n",
    "plt.tight_layout()\n",
    "plt.show()"
   ],
   "metadata": {
    "collapsed": false
   }
  },
  {
   "cell_type": "markdown",
   "source": [
    "## Sarcina 4"
   ],
   "metadata": {
    "collapsed": false
   }
  },
  {
   "cell_type": "code",
   "execution_count": null,
   "outputs": [],
   "source": [
    "# primele 5 secunde\n",
    "with open(\"lab5_trimmed1.wav\", 'rb') as audio:\n",
    "    rate, data = wavfile.read(audio)\n",
    "\n",
    "display(Audio(data.T, rate=rate))\n",
    "\n",
    "Y = np.fft.rfft(data)\n",
    "\n",
    "Y[:10000] = 0\n",
    "\n",
    "\n",
    "X = np.fft.irfft(Y)\n",
    "\n",
    "display(Audio(X.T, rate=rate))\n",
    "# Nu se mai aude toba mare in audio\n"
   ],
   "metadata": {
    "collapsed": false
   }
  }
 ],
 "metadata": {
  "kernelspec": {
   "display_name": "Python 3",
   "language": "python",
   "name": "python3"
  },
  "language_info": {
   "codemirror_mode": {
    "name": "ipython",
    "version": 3
   },
   "file_extension": ".py",
   "mimetype": "text/x-python",
   "name": "python",
   "nbconvert_exporter": "python",
   "pygments_lexer": "ipython3",
   "version": "3.9.0"
  }
 },
 "nbformat": 4,
 "nbformat_minor": 4
}
