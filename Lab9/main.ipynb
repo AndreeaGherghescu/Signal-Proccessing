{
 "cells": [
  {
   "cell_type": "code",
   "execution_count": 25,
   "metadata": {
    "collapsed": true
   },
   "outputs": [],
   "source": [
    "import numpy as np\n",
    "from PIL import Image\n",
    "from sklearn.feature_extraction.image import extract_patches_2d, reconstruct_from_patches_2d\n",
    "from sklearn.preprocessing import normalize\n",
    "\n",
    "from dictlearn import DictionaryLearning\n",
    "from dictlearn import methods"
   ]
  },
  {
   "cell_type": "code",
   "execution_count": null,
   "outputs": [],
   "source": [],
   "metadata": {
    "collapsed": false
   }
  },
  {
   "cell_type": "code",
   "execution_count": 13,
   "outputs": [],
   "source": [
    "p = 8\n",
    "s = 6\n",
    "N = 1000\n",
    "n = 256\n",
    "K = 50\n",
    "sigma = 0.075\n"
   ],
   "metadata": {
    "collapsed": false
   }
  },
  {
   "cell_type": "code",
   "execution_count": 35,
   "outputs": [
    {
     "name": "stdout",
     "output_type": "stream",
     "text": [
      "16321600\n",
      "(255025, 8, 8)\n",
      "16321600\n",
      "(255025, 64)\n",
      "[[ 18.83190942  11.1812841    2.6625968  ...  69.55610024  71.21428048\n",
      "  -10.64184112]\n",
      " [ 19.96460917   8.95150203   0.71238085 ...  78.50283393  33.36024549\n",
      "  -10.59118501]\n",
      " [ 16.99795189  10.07766851   0.76710832 ...  80.7109107   -9.74914588\n",
      "   -6.75411412]\n",
      " ...\n",
      " [-23.10571115  -3.96237018   5.70774748 ... -59.44826135 -93.76189293\n",
      "    8.35065739]\n",
      " [-23.18193173 -20.84668087  -1.3239983  ... -57.53571396 -95.81938975\n",
      "    6.42313581]\n",
      " [-22.07600775 -65.98044885   3.66492414 ... -54.45453832 -95.78728061\n",
      "   10.29107853]]\n"
     ]
    }
   ],
   "source": [
    "img = Image.open(\"barbara.png\")\n",
    "I = np.asarray(img)\n",
    "Inoisy = I + sigma * np.random.randn(I.shape[0], I.shape[1])\n",
    "\n",
    "Ynoisy = extract_patches_2d(Inoisy, (p, p))\n",
    "\n",
    "print(Ynoisy.size)\n",
    "print(Ynoisy.shape)\n",
    "\n",
    "Ynoisy = Ynoisy.reshape(Ynoisy.shape[0], -1)\n",
    "\n",
    "print(Ynoisy.size)\n",
    "print(Ynoisy.shape)\n",
    "\n",
    "Ynoisy = Ynoisy.T\n",
    "\n",
    "mean = np.mean(Ynoisy, 0)\n",
    "Ynoisy = Ynoisy - mean\n",
    "\n",
    "idx = np.random.choice(Ynoisy.shape[1], N)\n",
    "Y = Ynoisy[:, idx]\n",
    "print(Y)"
   ],
   "metadata": {
    "collapsed": false
   }
  },
  {
   "cell_type": "code",
   "execution_count": 36,
   "outputs": [],
   "source": [
    "D0 = np.random.randn(p * p, N)\n",
    "D0 = normalize(D0, axis=0, norm='max')\n",
    "\n",
    "dl = DictionaryLearning(\n",
    "    n_components=n,\n",
    "    max_iter=K,\n",
    "    fit_algorithm='ksvd',\n",
    "    n_nonzero_coefs=s,\n",
    "    code_init=None,\n",
    "    dict_init=D0,\n",
    "    params=None,\n",
    "    data_sklearn_compat=False\n",
    ")\n",
    "dl.fit(Y)\n",
    "D = dl.D_"
   ],
   "metadata": {
    "collapsed": false
   }
  },
  {
   "cell_type": "code",
   "execution_count": 38,
   "outputs": [],
   "source": [
    "Xc, err = methods.omp(Ynoisy, D, n_nonzero_coefs=s)"
   ],
   "metadata": {
    "collapsed": false
   }
  },
  {
   "cell_type": "code",
   "execution_count": 46,
   "outputs": [
    {
     "name": "stdout",
     "output_type": "stream",
     "text": [
      "(64, 255025)\n"
     ]
    }
   ],
   "source": [
    "Yc = np.matmul(D, Xc) + mean\n",
    "print(Yc.shape)"
   ],
   "metadata": {
    "collapsed": false
   }
  },
  {
   "cell_type": "code",
   "execution_count": null,
   "outputs": [],
   "source": [],
   "metadata": {
    "collapsed": false
   }
  },
  {
   "cell_type": "code",
   "execution_count": 53,
   "outputs": [
    {
     "ename": "ValueError",
     "evalue": "cannot reshape array of size 16321600 into shape (8,8,8)",
     "output_type": "error",
     "traceback": [
      "\u001B[0;31m---------------------------------------------------------------------------\u001B[0m",
      "\u001B[0;31mValueError\u001B[0m                                Traceback (most recent call last)",
      "Cell \u001B[0;32mIn[53], line 1\u001B[0m\n\u001B[0;32m----> 1\u001B[0m Yc \u001B[38;5;241m=\u001B[39m \u001B[43mYc\u001B[49m\u001B[38;5;241;43m.\u001B[39;49m\u001B[43mreshape\u001B[49m\u001B[43m(\u001B[49m\u001B[43m(\u001B[49m\u001B[43m \u001B[49m\u001B[38;5;241;43m8\u001B[39;49m\u001B[43m,\u001B[49m\u001B[43m \u001B[49m\u001B[38;5;241;43m8\u001B[39;49m\u001B[43m,\u001B[49m\u001B[43m \u001B[49m\u001B[43mYc\u001B[49m\u001B[38;5;241;43m.\u001B[39;49m\u001B[43mshape\u001B[49m\u001B[43m[\u001B[49m\u001B[38;5;241;43m1\u001B[39;49m\u001B[43m]\u001B[49m\u001B[43m)\u001B[49m\u001B[43m)\u001B[49m\n\u001B[1;32m      2\u001B[0m Yc \u001B[38;5;241m=\u001B[39m Yc\u001B[38;5;241m.\u001B[39mT\n",
      "\u001B[0;31mValueError\u001B[0m: cannot reshape array of size 16321600 into shape (8,8,8)"
     ]
    }
   ],
   "source": [
    "Yc = Yc.reshape((8, 8, Yc.shape[1]))"
   ],
   "metadata": {
    "collapsed": false
   }
  },
  {
   "cell_type": "code",
   "execution_count": 57,
   "outputs": [],
   "source": [
    "Yc = np.transpose(Yc, (2, 0, 1))"
   ],
   "metadata": {
    "collapsed": false
   }
  },
  {
   "cell_type": "code",
   "execution_count": 58,
   "outputs": [],
   "source": [
    "Ic = reconstruct_from_patches_2d(Yc, (I.shape[0], I.shape[1]))"
   ],
   "metadata": {
    "collapsed": false
   }
  },
  {
   "cell_type": "code",
   "execution_count": 60,
   "outputs": [
    {
     "ename": "NameError",
     "evalue": "name 'img' is not defined",
     "output_type": "error",
     "traceback": [
      "\u001B[0;31m---------------------------------------------------------------------------\u001B[0m",
      "\u001B[0;31mNameError\u001B[0m                                 Traceback (most recent call last)",
      "Cell \u001B[0;32mIn[60], line 1\u001B[0m\n\u001B[0;32m----> 1\u001B[0m \u001B[43mimg\u001B[49m\u001B[38;5;241m.\u001B[39mshow()\n\u001B[1;32m      2\u001B[0m Image\u001B[38;5;241m.\u001B[39mfromarray(Inoisy)\u001B[38;5;241m.\u001B[39mshow()\n\u001B[1;32m      3\u001B[0m Image\u001B[38;5;241m.\u001B[39mfromarray(Ic)\u001B[38;5;241m.\u001B[39mshow()\n",
      "\u001B[0;31mNameError\u001B[0m: name 'img' is not defined"
     ]
    }
   ],
   "source": [
    "img.show()\n",
    "Image.fromarray(Inoisy).show()\n",
    "Image.fromarray(Ic).show()"
   ],
   "metadata": {
    "collapsed": false
   }
  },
  {
   "cell_type": "code",
   "execution_count": 61,
   "outputs": [
    {
     "name": "stdout",
     "output_type": "stream",
     "text": [
      "37.71135514324791 70.65054974519543\n"
     ]
    }
   ],
   "source": [
    "def psnr(img1, img2):\n",
    "    mse = np.mean((img1 - img2) ** 2)\n",
    "    if mse == 0:\n",
    "        return 0\n",
    "    max_pixel = 255\n",
    "    res = 20 * np.log10(max_pixel / np.sqrt(mse))\n",
    "    return res\n",
    "\n",
    "\n",
    "psnr1 = psnr(I, Ic)\n",
    "psnr2 = psnr(I, Inoisy)\n",
    "\n",
    "print(psnr1, psnr2)"
   ],
   "metadata": {
    "collapsed": false
   }
  },
  {
   "cell_type": "code",
   "execution_count": null,
   "outputs": [],
   "source": [],
   "metadata": {
    "collapsed": false
   }
  }
 ],
 "metadata": {
  "kernelspec": {
   "display_name": "Python 3",
   "language": "python",
   "name": "python3"
  },
  "language_info": {
   "codemirror_mode": {
    "name": "ipython",
    "version": 2
   },
   "file_extension": ".py",
   "mimetype": "text/x-python",
   "name": "python",
   "nbconvert_exporter": "python",
   "pygments_lexer": "ipython2",
   "version": "2.7.6"
  }
 },
 "nbformat": 4,
 "nbformat_minor": 0
}
